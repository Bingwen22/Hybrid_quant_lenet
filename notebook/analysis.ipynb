{
 "cells": [
  {
   "cell_type": "markdown",
   "metadata": {},
   "source": [
    "# Hrbrid Quantization LeNet for MNIST"
   ]
  },
  {
   "cell_type": "markdown",
   "metadata": {},
   "source": [
    "本项目训练的 LeNet 模型如下："
   ]
  },
  {
   "cell_type": "code",
   "execution_count": 29,
   "metadata": {},
   "outputs": [
    {
     "name": "stdout",
     "output_type": "stream",
     "text": [
      "LeNet_Quant(\n",
      "  (conv1): Conv2d_Q(\n",
      "    1, 6, kernel_size=(5, 5), stride=(1, 1)\n",
      "    (w_quantize_fn): weight_quantize_fn()\n",
      "    (a_quantize_fn): activation_quantize_fn()\n",
      "  )\n",
      "  (conv2): Conv2d_Q(\n",
      "    6, 16, kernel_size=(5, 5), stride=(1, 1)\n",
      "    (w_quantize_fn): weight_quantize_fn()\n",
      "    (a_quantize_fn): activation_quantize_fn()\n",
      "  )\n",
      "  (fc1): Linear_Q(\n",
      "    in_features=256, out_features=120, bias=True\n",
      "    (w_quantize_fn): weight_quantize_fn()\n",
      "    (a_quantize_fn): activation_quantize_fn()\n",
      "  )\n",
      "  (fc2): Linear_Q(\n",
      "    in_features=120, out_features=84, bias=True\n",
      "    (w_quantize_fn): weight_quantize_fn()\n",
      "    (a_quantize_fn): activation_quantize_fn()\n",
      "  )\n",
      "  (fc3): Linear_Q(\n",
      "    in_features=84, out_features=10, bias=True\n",
      "    (w_quantize_fn): weight_quantize_fn()\n",
      "    (a_quantize_fn): activation_quantize_fn()\n",
      "  )\n",
      ")\n"
     ]
    }
   ],
   "source": [
    "import torch\n",
    "import sys\n",
    "sys.path.append(\"..\") # add project path to ipynb\n",
    "\n",
    "device = torch.device('cuda' if torch.cuda.is_available() else 'cpu')\n",
    "\n",
    "from models.lenet import *\n",
    "model = LeNet_Quant(quant_cfg=[4,4,4,4,4])\n",
    "model.load_state_dict(torch.load('../checkpoint/2024_10_31_23_00/4_4_4_4_4_best.pth', weights_only=True))\n",
    "model.to(device)\n",
    "print(model)"
   ]
  }
 ],
 "metadata": {
  "kernelspec": {
   "display_name": "Python 3.8 (noteenv)",
   "language": "python",
   "name": "noteenv"
  },
  "language_info": {
   "codemirror_mode": {
    "name": "ipython",
    "version": 3
   },
   "file_extension": ".py",
   "mimetype": "text/x-python",
   "name": "python",
   "nbconvert_exporter": "python",
   "pygments_lexer": "ipython3",
   "version": "3.8.20"
  }
 },
 "nbformat": 4,
 "nbformat_minor": 4
}
